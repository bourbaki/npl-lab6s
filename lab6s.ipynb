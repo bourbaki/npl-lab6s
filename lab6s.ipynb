{
 "cells": [
  {
   "cell_type": "markdown",
   "metadata": {},
   "source": [
    "## Инициализация и загрузка данных"
   ]
  },
  {
   "cell_type": "code",
   "execution_count": 16,
   "metadata": {
    "collapsed": false
   },
   "outputs": [],
   "source": [
    "import networkx as nx\n",
    "import community_metrics as cm\n",
    "from community import generate_dendogram\n",
    "from statistics import mean\n",
    "\n",
    "GRAPH_FILE = 'data/graph.gpickle'\n",
    "OUTPUT = 'lab6sclustering.json'\n",
    "\n",
    "G = nx.read_gpickle(GRAPH_FILE)\n",
    "\n",
    "RESULT = {}\n",
    "\n",
    "def uniq(lst):\n",
    "    return len(set(lst))"
   ]
  },
  {
   "cell_type": "markdown",
   "metadata": {},
   "source": [
    "## Вычисление базовых характеристик"
   ]
  },
  {
   "cell_type": "code",
   "execution_count": 17,
   "metadata": {
    "collapsed": false
   },
   "outputs": [],
   "source": [
    "RESULT[\"max_core\"] = max(nx.core_number(G).values())\n",
    "RESULT[\"num_4-cores\"] = len(list(nx.connected_component_subgraphs(nx.k_core(G,k=4))))"
   ]
  },
  {
   "cell_type": "code",
   "execution_count": 13,
   "metadata": {
    "collapsed": false
   },
   "outputs": [
    {
     "name": "stdout",
     "output_type": "stream",
     "text": [
      "{'num_4-cores': 3, 'max_core': 34}\n"
     ]
    }
   ],
   "source": [
    "print(RESULT)"
   ]
  },
  {
   "cell_type": "markdown",
   "metadata": {},
   "source": [
    "## Вычисление метрик"
   ]
  },
  {
   "cell_type": "code",
   "execution_count": 18,
   "metadata": {
    "collapsed": false
   },
   "outputs": [],
   "source": [
    "def modularity(kx):\n",
    "  m0,m = 0.,G.number_of_edges()\n",
    "  for gr in list(nx.connected_component_subgraphs(nx.k_core(G,k=kx))):\n",
    "      n = 0\n",
    "      for node in nx.nodes(gr):\n",
    "          n += len(list(nx.all_neighbors(gr, node)))\n",
    "      m0 += (nx.number_of_edges(gr)*1./m)-(n/(2*m))**2\n",
    "  return m0\n",
    "\n",
    "def clique_tr(G,node):\n",
    "   nb = set(nx.all_neighbors(G, node))\n",
    "   tr,nodes = set(),set()\n",
    "   for n in nb:\n",
    "       nodes.add(n)\n",
    "       for n2 in nx.all_neighbors(G, n):\n",
    "           if n2 in nb:\n",
    "               tr.add(tuple(sorted([n,n2])))\n",
    "               nodes.add(n2)\n",
    "   return (len(tr),len(nodes),len(nb))"
   ]
  },
  {
   "cell_type": "code",
   "execution_count": 19,
   "metadata": {
    "collapsed": false
   },
   "outputs": [],
   "source": [
    "# Modularity\n",
    "RESULT[\"modularity_max-cores\"] = modularity(RESULT[\"max_core\"])\n",
    "RESULT[\"modularity_4-cores\"] = modularity(RESULT[\"num_4-cores\"])"
   ]
  },
  {
   "cell_type": "code",
   "execution_count": 16,
   "metadata": {
    "collapsed": true
   },
   "outputs": [],
   "source": [
    "def wcc(kx):\n",
    "   wcc_all = 0.\n",
    "   num_nodes_all = 0#len(nx.nodes(G))\n",
    "   grs = list(nx.connected_component_subgraphs(nx.k_core(G,k=kx)))\n",
    "   for gr in grs:\n",
    "       nodes = nx.nodes(gr)\n",
    "       num_nodes_gr = len(nodes)\n",
    "       num_nodes_all += num_nodes_gr\n",
    "       wcc0 = 0.\n",
    "       for node in nodes:\n",
    "           tV,vtV,nbV = clique_tr(G,node)\n",
    "           tS,vtS,nbS = clique_tr(gr,node)\n",
    "           if tV != 0:\n",
    "               wcc0 += (tS*1./tV) * (vtV/(num_nodes_gr-1+(nbV-nbS)))\n",
    "       wcc_all += wcc0\n",
    "   return wcc_all/num_nodes_all"
   ]
  },
  {
   "cell_type": "code",
   "execution_count": 4,
   "metadata": {
    "collapsed": false
   },
   "outputs": [],
   "source": [
    "max_core_community = list(nx.connected_component_subgraphs(nx.k_core(G, k=RESULT['max_core'])))[0]"
   ]
  },
  {
   "cell_type": "code",
   "execution_count": 5,
   "metadata": {
    "collapsed": false
   },
   "outputs": [
    {
     "name": "stdout",
     "output_type": "stream",
     "text": [
      "0.2296878108830443\n"
     ]
    }
   ],
   "source": [
    "wcc_max_core = cm.wcc(max_core_community, G)\n",
    "print(wcc_max_core)"
   ]
  },
  {
   "cell_type": "code",
   "execution_count": 10,
   "metadata": {
    "collapsed": false
   },
   "outputs": [],
   "source": [
    "four_core_communities = list(nx.connected_component_subgraphs(nx.k_core(G, k=4)))"
   ]
  },
  {
   "cell_type": "code",
   "execution_count": 13,
   "metadata": {
    "collapsed": false
   },
   "outputs": [
    {
     "data": {
      "text/plain": [
       "25724"
      ]
     },
     "execution_count": 13,
     "metadata": {},
     "output_type": "execute_result"
    }
   ],
   "source": [
    "max(four_core_communities, key=lambda c: c.number_of_nodes())"
   ]
  },
  {
   "cell_type": "code",
   "execution_count": 7,
   "metadata": {
    "collapsed": false
   },
   "outputs": [
    {
     "name": "stdout",
     "output_type": "stream",
     "text": [
      "0.0007715195805451026\n"
     ]
    }
   ],
   "source": [
    "wcc_four_core = cm.wcc(four_core_community, G)\n",
    "print(wcc_four_core)"
   ]
  },
  {
   "cell_type": "code",
   "execution_count": 20,
   "metadata": {
    "collapsed": false
   },
   "outputs": [
    {
     "data": {
      "text/plain": [
       "{'max_core': 34,\n",
       " 'modularity_4-cores': 0.08463815529658236,\n",
       " 'modularity_max-cores': 0.015516874392815372,\n",
       " 'num_4-cores': 3,\n",
       " 'wcc_4-cores': 0.0007715195805451026,\n",
       " 'wcc_max-cores': 0.2296878108830443}"
      ]
     },
     "execution_count": 20,
     "metadata": {},
     "output_type": "execute_result"
    }
   ],
   "source": [
    "# WCC\n",
    "RESULT[\"wcc_max-cores\"] = wcc_max_core\n",
    "RESULT[\"wcc_4-cores\"] = wcc_four_core\n",
    "RESULT"
   ]
  },
  {
   "cell_type": "markdown",
   "metadata": {},
   "source": [
    "## Louvain "
   ]
  },
  {
   "cell_type": "code",
   "execution_count": 21,
   "metadata": {
    "collapsed": false
   },
   "outputs": [],
   "source": [
    "dendo = generate_dendogram(G)"
   ]
  },
  {
   "cell_type": "code",
   "execution_count": 22,
   "metadata": {
    "collapsed": true
   },
   "outputs": [],
   "source": [
    "RESULT[\"louvain_steps\"] = [uniq(prt.values()) for prt in dendo]"
   ]
  },
  {
   "cell_type": "markdown",
   "metadata": {},
   "source": [
    "## Сохранение данных"
   ]
  },
  {
   "cell_type": "code",
   "execution_count": 23,
   "metadata": {
    "collapsed": false
   },
   "outputs": [
    {
     "data": {
      "text/plain": [
       "{'louvain_steps': [53614, 49239, 48983, 48978],\n",
       " 'max_core': 34,\n",
       " 'modularity_4-cores': 0.08463815529658236,\n",
       " 'modularity_max-cores': 0.015516874392815372,\n",
       " 'num_4-cores': 3,\n",
       " 'wcc_4-cores': 0.0007715195805451026,\n",
       " 'wcc_max-cores': 0.2296878108830443}"
      ]
     },
     "execution_count": 23,
     "metadata": {},
     "output_type": "execute_result"
    }
   ],
   "source": [
    "import json\n",
    "RESULT"
   ]
  },
  {
   "cell_type": "code",
   "execution_count": 24,
   "metadata": {
    "collapsed": true
   },
   "outputs": [],
   "source": [
    "with open(OUTPUT, 'w') as out:\n",
    "    out.write(json.dumps(RESULT))"
   ]
  },
  {
   "cell_type": "code",
   "execution_count": null,
   "metadata": {
    "collapsed": true
   },
   "outputs": [],
   "source": []
  }
 ],
 "metadata": {
  "kernelspec": {
   "display_name": "Python 3",
   "language": "python",
   "name": "python3"
  },
  "language_info": {
   "codemirror_mode": {
    "name": "ipython",
    "version": 3
   },
   "file_extension": ".py",
   "mimetype": "text/x-python",
   "name": "python",
   "nbconvert_exporter": "python",
   "pygments_lexer": "ipython3",
   "version": "3.4.3"
  }
 },
 "nbformat": 4,
 "nbformat_minor": 0
}
